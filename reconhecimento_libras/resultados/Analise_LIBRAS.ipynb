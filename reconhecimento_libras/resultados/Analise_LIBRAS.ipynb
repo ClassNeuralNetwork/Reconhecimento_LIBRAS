{
  "cells": [
    {
      "cell_type": "code",
      "execution_count": 2,
      "metadata": {
        "colab": {
          "base_uri": "https://localhost:8080/"
        },
        "id": "fTbHIT5pvKvS",
        "outputId": "b23ea610-5c71-4286-d9d3-65c102948493"
      },
      "outputs": [
        {
          "output_type": "stream",
          "name": "stdout",
          "text": [
            "Drive already mounted at /content/drive; to attempt to forcibly remount, call drive.mount(\"/content/drive\", force_remount=True).\n"
          ]
        }
      ],
      "source": [
        "from google.colab import drive\n",
        "drive.mount('/content/drive')"
      ]
    },
    {
      "cell_type": "code",
      "execution_count": 3,
      "metadata": {
        "colab": {
          "base_uri": "https://localhost:8080/"
        },
        "id": "laXw-oRFvVzK",
        "outputId": "83ad0b1b-dd6a-42f4-fc65-4257c473462d"
      },
      "outputs": [
        {
          "output_type": "stream",
          "name": "stdout",
          "text": [
            "Requirement already satisfied: jax in /usr/local/lib/python3.10/dist-packages (0.4.25)\n",
            "Requirement already satisfied: jaxlib in /usr/local/lib/python3.10/dist-packages (0.4.25)\n",
            "Requirement already satisfied: ml-dtypes>=0.2.0 in /usr/local/lib/python3.10/dist-packages (from jax) (0.2.0)\n",
            "Requirement already satisfied: numpy>=1.22 in /usr/local/lib/python3.10/dist-packages (from jax) (1.25.2)\n",
            "Requirement already satisfied: opt-einsum in /usr/local/lib/python3.10/dist-packages (from jax) (3.3.0)\n",
            "Requirement already satisfied: scipy>=1.9 in /usr/local/lib/python3.10/dist-packages (from jax) (1.11.4)\n"
          ]
        }
      ],
      "source": [
        "!pip install --upgrade jax jaxlib"
      ]
    },
    {
      "cell_type": "code",
      "execution_count": 4,
      "metadata": {
        "colab": {
          "base_uri": "https://localhost:8080/"
        },
        "id": "uBuV_jUP4sQy",
        "outputId": "61e72d8b-cd36-4de7-b9cb-ada75ffa3987"
      },
      "outputs": [
        {
          "output_type": "stream",
          "name": "stdout",
          "text": [
            "Arquivos extraídos: ['dataSet_colorido_libras']\n"
          ]
        }
      ],
      "source": [
        "import zipfile\n",
        "import os\n",
        "from io import BytesIO  # reconhecer numeros binarios e converter\n",
        "from PIL import Image\n",
        "import matplotlib.pyplot as plt  # plotar graficos\n",
        "import os  # SO do computador\n",
        "import shutil  # para manipulação de arquivos e diretorios\n",
        "import pandas as pd\n",
        "from sklearn.preprocessing import StandardScaler  # padronizar os dados\n",
        "import tensorflow as tf\n",
        "import numpy as np\n",
        "import matplotlib.image as mpimg\n",
        "import random\n",
        "from sklearn.model_selection import train_test_split\n",
        "from tensorflow.keras.models import Sequential\n",
        "from tensorflow.keras.layers import Flatten, Dense, Dropout\n",
        "from os.path import join\n",
        "from tensorflow.keras.callbacks import EarlyStopping\n",
        "from sklearn.metrics import accuracy_score\n",
        "import random\n",
        "from sklearn.model_selection import train_test_split\n",
        "from tensorflow.keras.models import Sequential\n",
        "from tensorflow.keras.layers import Conv2D, MaxPooling2D, Flatten, Dense, Dropout, BatchNormalization, Activation\n",
        "from tensorflow.keras.optimizers import Adam\n",
        "import numpy as np\n",
        "import os, sys\n",
        "from scipy import ndimage\n",
        "import cv2\n",
        "import matplotlib.pyplot as plt\n",
        "import itertools\n",
        "import scipy.stats\n",
        "import tensorflow as tf\n",
        "from keras import applications, optimizers, Input\n",
        "from keras.models import Sequential, Model\n",
        "from keras.layers import Activation, Dropout, Flatten, Dense, Conv2D, MaxPooling2D\n",
        "from keras.utils import to_categorical\n",
        "from keras.preprocessing.image import ImageDataGenerator, array_to_img, img_to_array, load_img\n",
        "from sklearn.model_selection import train_test_split\n",
        "from sklearn.metrics import confusion_matrix, ConfusionMatrixDisplay, accuracy_score, precision_score, recall_score, f1_score\n",
        "from sklearn.utils.multiclass import unique_labels\n",
        "\n",
        "zip_path = '/content/drive/MyDrive/redes/dataSet_colorido_libras.zip'\n",
        "extract_path = '/content/dataSet_colorido_libras'\n",
        "\n",
        "# Extrair o conteúdo do arquivo ZIP\n",
        "with zipfile.ZipFile(zip_path, 'r') as zip_ref:\n",
        "    zip_ref.extractall(extract_path)\n",
        "\n",
        "# Listar os arquivos no diretório de extração\n",
        "extracted_files = os.listdir(extract_path)\n",
        "print(f'Arquivos extraídos: {extracted_files}')\n"
      ]
    },
    {
      "cell_type": "code",
      "execution_count": 5,
      "metadata": {
        "colab": {
          "base_uri": "https://localhost:8080/"
        },
        "id": "6kgETOEVrWkw",
        "outputId": "6867e0bc-f58b-4040-b592-85de641489b8"
      },
      "outputs": [
        {
          "output_type": "stream",
          "name": "stdout",
          "text": [
            "500 images to array\n",
            "All images to array!\n"
          ]
        }
      ],
      "source": [
        "folder = '/content/dataSet_colorido_libras/dataSet_colorido_libras/30 FPS/30 FPS/train'\n",
        "#mudei essas linhas de baixo pois estava em 120\n",
        "image_width = 120\n",
        "image_height = 213\n",
        "nova_altura = 213\n",
        "nova_largura = 120\n",
        "channels = 3\n",
        "\n",
        "train_files = []\n",
        "i=0\n",
        "for image in ['bus_renamed', 'bank_renamed', 'car_renamed', 'formation_renamed', 'hospital_renamed','I_renamed', 'man_renamed', 'motorcycle_renamed', 'my_renamed', 'supermarket_renamed', 'we_renamed',\n",
        "             'woman_renamed', 'you_renamed', 'you (plural)_renamed', 'your_renamed']:\n",
        "    onlyfiles = [f for f in os.listdir(folder + '/' + str(image)) if os.path.isfile(os.path.join(folder + '/' + str(image), f))]\n",
        "    for _file in onlyfiles:\n",
        "        train_files.append(_file)\n",
        "\n",
        "dataset = np.ndarray(shape=(len(train_files), image_height, image_width, channels),\n",
        "                     dtype=np.float32)\n",
        "y_dataset = []\n",
        "\n",
        "i = 0\n",
        "for image in ['bus_renamed', 'bank_renamed', 'car_renamed', 'formation_renamed', 'hospital_renamed','I_renamed', 'man_renamed', 'motorcycle_renamed', 'my_renamed', 'supermarket_renamed', 'we_renamed',\n",
        "             'woman_renamed', 'you_renamed', 'you (plural)_renamed', 'your_renamed']:\n",
        "    onlyfiles = [f for f in os.listdir(folder + '/' + str(image)) if os.path.isfile(os.path.join(folder + '/' + str(image), f))]\n",
        "    for _file in onlyfiles:\n",
        "        img = load_img(folder + '/' +  str(image) + '/' + _file)  # this is a PIL image\n",
        "        img.thumbnail((image_width, image_height))\n",
        "        img = cv2.resize(img_to_array(img) , (nova_largura, nova_altura))\n",
        "        x = np.array(img)\n",
        "        dataset[i] = x\n",
        "        mapping = {'bus_renamed': 0 , 'bank_renamed': 1 , 'car_renamed' : 2 , 'formation_renamed': 3 , 'hospital_renamed' : 4 ,'I_renamed' : 5 , 'man_renamed' : 6 , 'motorcycle_renamed' : 7 , 'my_renamed' : 8 , 'supermarket_renamed' : 9 , 'we_renamed' : 10 ,\n",
        "             'woman_renamed'  : 11 , 'you_renamed' : 12 , 'you (plural)_renamed' : 13  , 'your_renamed' : 14 }\n",
        "        y_dataset.append(mapping[image])\n",
        "        i += 1\n",
        "        if i == 500:\n",
        "            print(\"%d images to array\" % i)\n",
        "            break\n",
        "print(\"All images to array!\")\n"
      ]
    },
    {
      "cell_type": "code",
      "execution_count": 6,
      "metadata": {
        "id": "qO2mwnjIrdan"
      },
      "outputs": [],
      "source": [
        "dataset = dataset.astype('float32')\n",
        "dataset /= 255"
      ]
    },
    {
      "cell_type": "code",
      "execution_count": 7,
      "metadata": {
        "colab": {
          "base_uri": "https://localhost:8080/"
        },
        "id": "c59QkeqtsJND",
        "outputId": "c8145b10-f0df-4384-8523-2487c7e2408d"
      },
      "outputs": [
        {
          "output_type": "stream",
          "name": "stdout",
          "text": [
            "15\n"
          ]
        }
      ],
      "source": [
        "# categorical values\n",
        "n_classes = len(set(y_dataset))\n",
        "print(n_classes)\n",
        "y_dataset_ = to_categorical(y_dataset, n_classes)"
      ]
    },
    {
      "cell_type": "code",
      "execution_count": 8,
      "metadata": {
        "colab": {
          "base_uri": "https://localhost:8080/"
        },
        "id": "OEjXOqN7r-_v",
        "outputId": "f7bcf35d-e94f-4fa3-f266-360268d95c60"
      },
      "outputs": [
        {
          "output_type": "stream",
          "name": "stdout",
          "text": [
            "Train set size: 5716, Test set size: 1430\n"
          ]
        }
      ],
      "source": [
        "# Trim dataset to match the size of y_dataset_\n",
        "dataset_trimmed = dataset[:len(y_dataset_)]\n",
        "# Splitting into training and test sets\n",
        "X_train, X_test, y_train, y_test = train_test_split(dataset_trimmed, y_dataset_, test_size=0.2)\n",
        "print(\"Train set size: {0}, Test set size: {1}\".format(len(X_train), len(X_test)))"
      ]
    },
    {
      "cell_type": "code",
      "execution_count": 20,
      "metadata": {
        "id": "CzDTpdZc3ha-"
      },
      "outputs": [],
      "source": [
        "new_model = tf.keras.models.load_model('/content/drive/MyDrive/redes/model.h5')"
      ]
    },
    {
      "cell_type": "code",
      "execution_count": 10,
      "metadata": {
        "colab": {
          "base_uri": "https://localhost:8080/"
        },
        "id": "QSoTeFWw8Dwk",
        "outputId": "67225094-8290-4c11-d1eb-08b97d5d42ef"
      },
      "outputs": [
        {
          "output_type": "stream",
          "name": "stdout",
          "text": [
            "Model: \"sequential\"\n",
            "_________________________________________________________________\n",
            " Layer (type)                Output Shape              Param #   \n",
            "=================================================================\n",
            " batch_normalization (Batch  (None, 213, 120, 3)       12        \n",
            " Normalization)                                                  \n",
            "                                                                 \n",
            " conv2d (Conv2D)             (None, 213, 120, 256)     7168      \n",
            "                                                                 \n",
            " max_pooling2d (MaxPooling2  (None, 106, 60, 256)      0         \n",
            " D)                                                              \n",
            "                                                                 \n",
            " dropout (Dropout)           (None, 106, 60, 256)      0         \n",
            "                                                                 \n",
            " conv2d_1 (Conv2D)           (None, 106, 60, 128)      295040    \n",
            "                                                                 \n",
            " max_pooling2d_1 (MaxPoolin  (None, 53, 30, 128)       0         \n",
            " g2D)                                                            \n",
            "                                                                 \n",
            " dropout_1 (Dropout)         (None, 53, 30, 128)       0         \n",
            "                                                                 \n",
            " flatten (Flatten)           (None, 203520)            0         \n",
            "                                                                 \n",
            " dense (Dense)               (None, 64)                13025344  \n",
            "                                                                 \n",
            " dropout_2 (Dropout)         (None, 64)                0         \n",
            "                                                                 \n",
            " dense_1 (Dense)             (None, 15)                975       \n",
            "                                                                 \n",
            "=================================================================\n",
            "Total params: 13328539 (50.84 MB)\n",
            "Trainable params: 13328533 (50.84 MB)\n",
            "Non-trainable params: 6 (24.00 Byte)\n",
            "_________________________________________________________________\n"
          ]
        }
      ],
      "source": [
        "new_model.summary()"
      ]
    },
    {
      "cell_type": "code",
      "execution_count": 11,
      "metadata": {
        "colab": {
          "base_uri": "https://localhost:8080/",
          "height": 206
        },
        "id": "y7Bv8BWv8Pt5",
        "outputId": "3e8b136c-27fe-4ebb-9f85-80fd62c65aef"
      },
      "outputs": [
        {
          "output_type": "execute_result",
          "data": {
            "text/plain": [
              "   Unnamed: 0      loss  accuracy  val_loss  val_accuracy\n",
              "0           0  2.223258  0.592957  2.317710      0.597902\n",
              "1           1  1.136066  0.637139  1.643393      0.604021\n",
              "2           2  0.857825  0.711286  1.124960      0.648601\n",
              "3           3  0.681543  0.768810  0.693284      0.788462\n",
              "4           4  0.596634  0.792651  0.492370      0.871503"
            ],
            "text/html": [
              "\n",
              "  <div id=\"df-bdd67e8b-8bd7-47b0-bd35-85129d6d3206\" class=\"colab-df-container\">\n",
              "    <div>\n",
              "<style scoped>\n",
              "    .dataframe tbody tr th:only-of-type {\n",
              "        vertical-align: middle;\n",
              "    }\n",
              "\n",
              "    .dataframe tbody tr th {\n",
              "        vertical-align: top;\n",
              "    }\n",
              "\n",
              "    .dataframe thead th {\n",
              "        text-align: right;\n",
              "    }\n",
              "</style>\n",
              "<table border=\"1\" class=\"dataframe\">\n",
              "  <thead>\n",
              "    <tr style=\"text-align: right;\">\n",
              "      <th></th>\n",
              "      <th>Unnamed: 0</th>\n",
              "      <th>loss</th>\n",
              "      <th>accuracy</th>\n",
              "      <th>val_loss</th>\n",
              "      <th>val_accuracy</th>\n",
              "    </tr>\n",
              "  </thead>\n",
              "  <tbody>\n",
              "    <tr>\n",
              "      <th>0</th>\n",
              "      <td>0</td>\n",
              "      <td>2.223258</td>\n",
              "      <td>0.592957</td>\n",
              "      <td>2.317710</td>\n",
              "      <td>0.597902</td>\n",
              "    </tr>\n",
              "    <tr>\n",
              "      <th>1</th>\n",
              "      <td>1</td>\n",
              "      <td>1.136066</td>\n",
              "      <td>0.637139</td>\n",
              "      <td>1.643393</td>\n",
              "      <td>0.604021</td>\n",
              "    </tr>\n",
              "    <tr>\n",
              "      <th>2</th>\n",
              "      <td>2</td>\n",
              "      <td>0.857825</td>\n",
              "      <td>0.711286</td>\n",
              "      <td>1.124960</td>\n",
              "      <td>0.648601</td>\n",
              "    </tr>\n",
              "    <tr>\n",
              "      <th>3</th>\n",
              "      <td>3</td>\n",
              "      <td>0.681543</td>\n",
              "      <td>0.768810</td>\n",
              "      <td>0.693284</td>\n",
              "      <td>0.788462</td>\n",
              "    </tr>\n",
              "    <tr>\n",
              "      <th>4</th>\n",
              "      <td>4</td>\n",
              "      <td>0.596634</td>\n",
              "      <td>0.792651</td>\n",
              "      <td>0.492370</td>\n",
              "      <td>0.871503</td>\n",
              "    </tr>\n",
              "  </tbody>\n",
              "</table>\n",
              "</div>\n",
              "    <div class=\"colab-df-buttons\">\n",
              "\n",
              "  <div class=\"colab-df-container\">\n",
              "    <button class=\"colab-df-convert\" onclick=\"convertToInteractive('df-bdd67e8b-8bd7-47b0-bd35-85129d6d3206')\"\n",
              "            title=\"Convert this dataframe to an interactive table.\"\n",
              "            style=\"display:none;\">\n",
              "\n",
              "  <svg xmlns=\"http://www.w3.org/2000/svg\" height=\"24px\" viewBox=\"0 -960 960 960\">\n",
              "    <path d=\"M120-120v-720h720v720H120Zm60-500h600v-160H180v160Zm220 220h160v-160H400v160Zm0 220h160v-160H400v160ZM180-400h160v-160H180v160Zm440 0h160v-160H620v160ZM180-180h160v-160H180v160Zm440 0h160v-160H620v160Z\"/>\n",
              "  </svg>\n",
              "    </button>\n",
              "\n",
              "  <style>\n",
              "    .colab-df-container {\n",
              "      display:flex;\n",
              "      gap: 12px;\n",
              "    }\n",
              "\n",
              "    .colab-df-convert {\n",
              "      background-color: #E8F0FE;\n",
              "      border: none;\n",
              "      border-radius: 50%;\n",
              "      cursor: pointer;\n",
              "      display: none;\n",
              "      fill: #1967D2;\n",
              "      height: 32px;\n",
              "      padding: 0 0 0 0;\n",
              "      width: 32px;\n",
              "    }\n",
              "\n",
              "    .colab-df-convert:hover {\n",
              "      background-color: #E2EBFA;\n",
              "      box-shadow: 0px 1px 2px rgba(60, 64, 67, 0.3), 0px 1px 3px 1px rgba(60, 64, 67, 0.15);\n",
              "      fill: #174EA6;\n",
              "    }\n",
              "\n",
              "    .colab-df-buttons div {\n",
              "      margin-bottom: 4px;\n",
              "    }\n",
              "\n",
              "    [theme=dark] .colab-df-convert {\n",
              "      background-color: #3B4455;\n",
              "      fill: #D2E3FC;\n",
              "    }\n",
              "\n",
              "    [theme=dark] .colab-df-convert:hover {\n",
              "      background-color: #434B5C;\n",
              "      box-shadow: 0px 1px 3px 1px rgba(0, 0, 0, 0.15);\n",
              "      filter: drop-shadow(0px 1px 2px rgba(0, 0, 0, 0.3));\n",
              "      fill: #FFFFFF;\n",
              "    }\n",
              "  </style>\n",
              "\n",
              "    <script>\n",
              "      const buttonEl =\n",
              "        document.querySelector('#df-bdd67e8b-8bd7-47b0-bd35-85129d6d3206 button.colab-df-convert');\n",
              "      buttonEl.style.display =\n",
              "        google.colab.kernel.accessAllowed ? 'block' : 'none';\n",
              "\n",
              "      async function convertToInteractive(key) {\n",
              "        const element = document.querySelector('#df-bdd67e8b-8bd7-47b0-bd35-85129d6d3206');\n",
              "        const dataTable =\n",
              "          await google.colab.kernel.invokeFunction('convertToInteractive',\n",
              "                                                    [key], {});\n",
              "        if (!dataTable) return;\n",
              "\n",
              "        const docLinkHtml = 'Like what you see? Visit the ' +\n",
              "          '<a target=\"_blank\" href=https://colab.research.google.com/notebooks/data_table.ipynb>data table notebook</a>'\n",
              "          + ' to learn more about interactive tables.';\n",
              "        element.innerHTML = '';\n",
              "        dataTable['output_type'] = 'display_data';\n",
              "        await google.colab.output.renderOutput(dataTable, element);\n",
              "        const docLink = document.createElement('div');\n",
              "        docLink.innerHTML = docLinkHtml;\n",
              "        element.appendChild(docLink);\n",
              "      }\n",
              "    </script>\n",
              "  </div>\n",
              "\n",
              "\n",
              "<div id=\"df-73f013ec-6836-4c79-a2aa-715b072deffc\">\n",
              "  <button class=\"colab-df-quickchart\" onclick=\"quickchart('df-73f013ec-6836-4c79-a2aa-715b072deffc')\"\n",
              "            title=\"Suggest charts\"\n",
              "            style=\"display:none;\">\n",
              "\n",
              "<svg xmlns=\"http://www.w3.org/2000/svg\" height=\"24px\"viewBox=\"0 0 24 24\"\n",
              "     width=\"24px\">\n",
              "    <g>\n",
              "        <path d=\"M19 3H5c-1.1 0-2 .9-2 2v14c0 1.1.9 2 2 2h14c1.1 0 2-.9 2-2V5c0-1.1-.9-2-2-2zM9 17H7v-7h2v7zm4 0h-2V7h2v10zm4 0h-2v-4h2v4z\"/>\n",
              "    </g>\n",
              "</svg>\n",
              "  </button>\n",
              "\n",
              "<style>\n",
              "  .colab-df-quickchart {\n",
              "      --bg-color: #E8F0FE;\n",
              "      --fill-color: #1967D2;\n",
              "      --hover-bg-color: #E2EBFA;\n",
              "      --hover-fill-color: #174EA6;\n",
              "      --disabled-fill-color: #AAA;\n",
              "      --disabled-bg-color: #DDD;\n",
              "  }\n",
              "\n",
              "  [theme=dark] .colab-df-quickchart {\n",
              "      --bg-color: #3B4455;\n",
              "      --fill-color: #D2E3FC;\n",
              "      --hover-bg-color: #434B5C;\n",
              "      --hover-fill-color: #FFFFFF;\n",
              "      --disabled-bg-color: #3B4455;\n",
              "      --disabled-fill-color: #666;\n",
              "  }\n",
              "\n",
              "  .colab-df-quickchart {\n",
              "    background-color: var(--bg-color);\n",
              "    border: none;\n",
              "    border-radius: 50%;\n",
              "    cursor: pointer;\n",
              "    display: none;\n",
              "    fill: var(--fill-color);\n",
              "    height: 32px;\n",
              "    padding: 0;\n",
              "    width: 32px;\n",
              "  }\n",
              "\n",
              "  .colab-df-quickchart:hover {\n",
              "    background-color: var(--hover-bg-color);\n",
              "    box-shadow: 0 1px 2px rgba(60, 64, 67, 0.3), 0 1px 3px 1px rgba(60, 64, 67, 0.15);\n",
              "    fill: var(--button-hover-fill-color);\n",
              "  }\n",
              "\n",
              "  .colab-df-quickchart-complete:disabled,\n",
              "  .colab-df-quickchart-complete:disabled:hover {\n",
              "    background-color: var(--disabled-bg-color);\n",
              "    fill: var(--disabled-fill-color);\n",
              "    box-shadow: none;\n",
              "  }\n",
              "\n",
              "  .colab-df-spinner {\n",
              "    border: 2px solid var(--fill-color);\n",
              "    border-color: transparent;\n",
              "    border-bottom-color: var(--fill-color);\n",
              "    animation:\n",
              "      spin 1s steps(1) infinite;\n",
              "  }\n",
              "\n",
              "  @keyframes spin {\n",
              "    0% {\n",
              "      border-color: transparent;\n",
              "      border-bottom-color: var(--fill-color);\n",
              "      border-left-color: var(--fill-color);\n",
              "    }\n",
              "    20% {\n",
              "      border-color: transparent;\n",
              "      border-left-color: var(--fill-color);\n",
              "      border-top-color: var(--fill-color);\n",
              "    }\n",
              "    30% {\n",
              "      border-color: transparent;\n",
              "      border-left-color: var(--fill-color);\n",
              "      border-top-color: var(--fill-color);\n",
              "      border-right-color: var(--fill-color);\n",
              "    }\n",
              "    40% {\n",
              "      border-color: transparent;\n",
              "      border-right-color: var(--fill-color);\n",
              "      border-top-color: var(--fill-color);\n",
              "    }\n",
              "    60% {\n",
              "      border-color: transparent;\n",
              "      border-right-color: var(--fill-color);\n",
              "    }\n",
              "    80% {\n",
              "      border-color: transparent;\n",
              "      border-right-color: var(--fill-color);\n",
              "      border-bottom-color: var(--fill-color);\n",
              "    }\n",
              "    90% {\n",
              "      border-color: transparent;\n",
              "      border-bottom-color: var(--fill-color);\n",
              "    }\n",
              "  }\n",
              "</style>\n",
              "\n",
              "  <script>\n",
              "    async function quickchart(key) {\n",
              "      const quickchartButtonEl =\n",
              "        document.querySelector('#' + key + ' button');\n",
              "      quickchartButtonEl.disabled = true;  // To prevent multiple clicks.\n",
              "      quickchartButtonEl.classList.add('colab-df-spinner');\n",
              "      try {\n",
              "        const charts = await google.colab.kernel.invokeFunction(\n",
              "            'suggestCharts', [key], {});\n",
              "      } catch (error) {\n",
              "        console.error('Error during call to suggestCharts:', error);\n",
              "      }\n",
              "      quickchartButtonEl.classList.remove('colab-df-spinner');\n",
              "      quickchartButtonEl.classList.add('colab-df-quickchart-complete');\n",
              "    }\n",
              "    (() => {\n",
              "      let quickchartButtonEl =\n",
              "        document.querySelector('#df-73f013ec-6836-4c79-a2aa-715b072deffc button');\n",
              "      quickchartButtonEl.style.display =\n",
              "        google.colab.kernel.accessAllowed ? 'block' : 'none';\n",
              "    })();\n",
              "  </script>\n",
              "</div>\n",
              "    </div>\n",
              "  </div>\n"
            ],
            "application/vnd.google.colaboratory.intrinsic+json": {
              "type": "dataframe",
              "variable_name": "history",
              "summary": "{\n  \"name\": \"history\",\n  \"rows\": 42,\n  \"fields\": [\n    {\n      \"column\": \"Unnamed: 0\",\n      \"properties\": {\n        \"dtype\": \"number\",\n        \"std\": 12,\n        \"min\": 0,\n        \"max\": 41,\n        \"num_unique_values\": 42,\n        \"samples\": [\n          25,\n          13,\n          8\n        ],\n        \"semantic_type\": \"\",\n        \"description\": \"\"\n      }\n    },\n    {\n      \"column\": \"loss\",\n      \"properties\": {\n        \"dtype\": \"number\",\n        \"std\": 0.3549393595336529,\n        \"min\": 0.1677880138158798,\n        \"max\": 2.2232582569122314,\n        \"num_unique_values\": 42,\n        \"samples\": [\n          0.2127407044172287,\n          0.2990939021110534,\n          0.4169561266899109\n        ],\n        \"semantic_type\": \"\",\n        \"description\": \"\"\n      }\n    },\n    {\n      \"column\": \"accuracy\",\n      \"properties\": {\n        \"dtype\": \"number\",\n        \"std\": 0.0794848635678202,\n        \"min\": 0.5929571390151978,\n        \"max\": 0.9437882900238036,\n        \"num_unique_values\": 41,\n        \"samples\": [\n          0.9267278909683228,\n          0.8917322754859924,\n          0.8525809049606323\n        ],\n        \"semantic_type\": \"\",\n        \"description\": \"\"\n      }\n    },\n    {\n      \"column\": \"val_loss\",\n      \"properties\": {\n        \"dtype\": \"number\",\n        \"std\": 0.4238130335420172,\n        \"min\": 0.1252326965332031,\n        \"max\": 2.317709922790528,\n        \"num_unique_values\": 42,\n        \"samples\": [\n          0.1616005599498748,\n          0.2021130621433258,\n          0.2934598624706268\n        ],\n        \"semantic_type\": \"\",\n        \"description\": \"\"\n      }\n    },\n    {\n      \"column\": \"val_accuracy\",\n      \"properties\": {\n        \"dtype\": \"number\",\n        \"std\": 0.09245088133708773,\n        \"min\": 0.5979021191596985,\n        \"max\": 0.9702796936035156,\n        \"num_unique_values\": 27,\n        \"samples\": [\n          0.9213286638259888,\n          0.9475524425506592,\n          0.9335664510726928\n        ],\n        \"semantic_type\": \"\",\n        \"description\": \"\"\n      }\n    }\n  ]\n}"
            }
          },
          "metadata": {},
          "execution_count": 11
        }
      ],
      "source": [
        "history = pd.read_csv('/content/drive/MyDrive/redes/historico.csv')\n",
        "history.head()"
      ]
    },
    {
      "cell_type": "code",
      "execution_count": 41,
      "metadata": {
        "colab": {
          "base_uri": "https://localhost:8080/",
          "height": 451
        },
        "id": "NL3uNfOP9KMD",
        "outputId": "77590a4b-11fe-4590-bd54-4b77e4e574ae"
      },
      "outputs": [
        {
          "output_type": "display_data",
          "data": {
            "text/plain": [
              "<Figure size 640x480 with 1 Axes>"
            ],
            "image/png": "[encoded data removed]"
          },
          "metadata": {}
        }
      ],
      "source": [
        "# Visualizar a perda durante o treinamento\n",
        "plt.plot(history['loss'])\n",
        "plt.plot(history['val_loss'])\n",
        "plt.ylabel('Perda')\n",
        "plt.xlabel('Época')\n",
        "plt.legend(['Treino', 'Validação'], loc='upper right')\n",
        "plt.grid()\n",
        "plt.show()"
      ]
    },
    {
      "cell_type": "code",
      "execution_count": 21,
      "metadata": {
        "colab": {
          "base_uri": "https://localhost:8080/"
        },
        "id": "dF17dUWYtMeR",
        "outputId": "8546100c-28c7-4d04-e08d-9a3638238915"
      },
      "outputs": [
        {
          "output_type": "stream",
          "name": "stdout",
          "text": [
            "45/45 [==============================] - 5s 49ms/step\n"
          ]
        }
      ],
      "source": [
        "preds = new_model.predict(X_test)"
      ]
    },
    {
      "cell_type": "code",
      "execution_count": 32,
      "metadata": {
        "id": "ICagN6FJT6R9"
      },
      "outputs": [],
      "source": [
        "def plot_confusion_matrix(cm, classes,\n",
        "                          normalize=False,\n",
        "                          title='Confusion matrix',\n",
        "                          cmap=plt.cm.Blues):\n",
        "    \"\"\"\n",
        "    This function prints and plots the confusion matrix.\n",
        "    Normalization can be applied by setting `normalize=True`.\n",
        "    \"\"\"\n",
        "    plt.imshow(cm, interpolation='nearest', cmap=cmap)\n",
        "    tick_marks = np.arange(len(classes))\n",
        "    plt.xticks(tick_marks, classes, rotation=45)\n",
        "    plt.yticks(tick_marks, classes)\n",
        "\n",
        "    if normalize:\n",
        "        cm = cm.astype('float') / cm.sum(axis=1)[:, np.newaxis]\n",
        "        print(\"Normalized confusion matrix\")\n",
        "    else:\n",
        "        print('Confusion matrix, without normalization')\n",
        "\n",
        "    print(cm)\n",
        "\n",
        "    thresh = cm.max() / 2.\n",
        "    for i, j in itertools.product(range(cm.shape[0]), range(cm.shape[1])):\n",
        "        plt.text(j, i, cm[i, j],\n",
        "                 horizontalalignment=\"center\",\n",
        "                 color=\"white\" if cm[i, j] > thresh else \"black\")\n",
        "\n",
        "    plt.tight_layout()\n",
        "    plt.ylabel('Classe Real')\n",
        "    plt.xlabel('Classe Predita')"
      ]
    },
    {
      "cell_type": "code",
      "source": [
        "y_test_ = [np.argmax(x) for x in y_test]\n",
        "preds_ = [np.argmax(x) for x in preds]"
      ],
      "metadata": {
        "id": "AG87_9sLwj7U"
      },
      "execution_count": 23,
      "outputs": []
    },
    {
      "cell_type": "code",
      "source": [
        "print(preds_)"
      ],
      "metadata": {
        "colab": {
          "base_uri": "https://localhost:8080/"
        },
        "id": "3TT1Ul5E23e0",
        "outputId": "cfe74b40-e7fc-4c9c-fe38-afd7f1972ab2"
      },
      "execution_count": 39,
      "outputs": [
        {
          "output_type": "stream",
          "name": "stdout",
          "text": [
            "[3, 12, 3, 3, 1, 12, 7, 14, 3, 3, 3, 3, 3, 13, 3, 3, 3, 3, 1, 3, 3, 0, 3, 10, 3, 3, 3, 13, 3, 3, 3, 5, 3, 10, 3, 3, 3, 13, 3, 3, 3, 3, 9, 3, 3, 3, 3, 3, 1, 3, 3, 3, 3, 3, 3, 3, 5, 3, 4, 3, 14, 3, 3, 4, 9, 3, 8, 10, 10, 3, 11, 3, 12, 4, 3, 3, 3, 3, 3, 3, 3, 3, 1, 3, 3, 3, 13, 1, 3, 1, 3, 3, 12, 12, 4, 3, 3, 3, 0, 8, 8, 3, 12, 10, 3, 3, 1, 7, 0, 3, 14, 3, 3, 3, 13, 3, 10, 3, 3, 3, 12, 3, 3, 3, 3, 3, 3, 3, 9, 7, 11, 4, 3, 4, 13, 0, 3, 3, 7, 3, 13, 9, 3, 0, 10, 3, 7, 0, 3, 3, 7, 3, 3, 3, 3, 3, 3, 7, 10, 13, 3, 3, 3, 3, 13, 8, 14, 5, 3, 10, 4, 14, 13, 3, 3, 10, 3, 8, 10, 3, 3, 4, 3, 9, 1, 3, 10, 8, 3, 3, 3, 3, 10, 7, 3, 3, 3, 3, 3, 0, 3, 5, 3, 12, 3, 0, 4, 3, 3, 1, 12, 4, 3, 3, 5, 3, 1, 3, 3, 12, 3, 10, 0, 8, 10, 0, 3, 3, 3, 7, 3, 11, 13, 3, 3, 7, 10, 3, 9, 8, 3, 0, 3, 3, 3, 9, 3, 3, 3, 3, 3, 3, 3, 6, 3, 3, 6, 3, 3, 3, 5, 3, 3, 0, 6, 3, 9, 3, 5, 4, 3, 5, 3, 3, 3, 3, 3, 3, 1, 7, 3, 3, 3, 4, 3, 11, 3, 10, 0, 3, 3, 0, 3, 8, 10, 3, 3, 11, 3, 3, 3, 11, 3, 3, 3, 3, 13, 3, 7, 1, 3, 3, 4, 3, 3, 3, 7, 8, 3, 3, 3, 9, 3, 8, 3, 3, 1, 13, 0, 4, 3, 3, 3, 3, 3, 3, 3, 3, 7, 3, 3, 0, 0, 3, 12, 3, 3, 3, 9, 3, 1, 3, 4, 3, 3, 8, 3, 3, 3, 3, 3, 12, 4, 3, 3, 3, 13, 9, 3, 3, 8, 8, 3, 9, 3, 6, 3, 3, 3, 9, 3, 12, 3, 3, 13, 3, 3, 8, 3, 3, 3, 4, 3, 1, 3, 3, 3, 6, 3, 3, 3, 3, 12, 3, 12, 3, 11, 9, 12, 12, 4, 9, 3, 3, 9, 3, 3, 3, 3, 7, 7, 3, 3, 12, 3, 3, 3, 13, 3, 10, 3, 4, 3, 13, 3, 3, 3, 3, 10, 11, 3, 0, 0, 3, 3, 13, 3, 3, 10, 3, 11, 3, 9, 4, 3, 10, 3, 14, 3, 4, 7, 3, 3, 14, 3, 13, 3, 3, 3, 3, 3, 7, 0, 3, 3, 5, 3, 9, 9, 3, 3, 1, 3, 3, 3, 3, 5, 13, 1, 11, 3, 3, 1, 3, 3, 6, 3, 3, 3, 13, 3, 3, 3, 8, 3, 3, 3, 3, 3, 3, 3, 3, 3, 3, 3, 3, 0, 0, 3, 3, 3, 0, 3, 0, 4, 3, 3, 3, 3, 3, 13, 3, 14, 0, 3, 3, 3, 3, 10, 1, 14, 3, 7, 10, 9, 7, 3, 7, 3, 3, 7, 10, 3, 3, 7, 1, 3, 3, 3, 3, 3, 3, 3, 3, 3, 3, 11, 3, 3, 4, 3, 5, 1, 3, 3, 14, 13, 13, 5, 3, 11, 6, 6, 4, 8, 3, 6, 13, 3, 3, 3, 3, 12, 13, 0, 3, 5, 3, 9, 9, 13, 3, 3, 1, 3, 3, 14, 3, 3, 1, 5, 3, 3, 6, 3, 4, 3, 14, 3, 3, 3, 0, 3, 4, 3, 10, 3, 12, 12, 3, 3, 13, 9, 5, 3, 3, 3, 3, 7, 1, 0, 3, 0, 3, 14, 10, 3, 3, 3, 3, 7, 3, 3, 6, 3, 3, 6, 3, 3, 3, 3, 4, 9, 3, 3, 7, 3, 13, 3, 3, 10, 9, 3, 3, 3, 7, 0, 3, 3, 12, 14, 3, 3, 3, 0, 3, 3, 3, 3, 3, 3, 3, 10, 3, 3, 3, 7, 3, 1, 3, 14, 3, 3, 3, 3, 7, 3, 10, 3, 3, 13, 8, 0, 3, 7, 3, 3, 3, 3, 3, 3, 3, 4, 1, 3, 3, 3, 3, 3, 3, 3, 8, 11, 3, 3, 8, 4, 3, 3, 3, 13, 3, 3, 3, 4, 8, 3, 3, 12, 9, 9, 6, 3, 0, 8, 8, 3, 3, 3, 14, 5, 3, 3, 12, 3, 3, 3, 3, 13, 3, 14, 3, 9, 3, 1, 10, 4, 3, 3, 3, 3, 3, 3, 3, 3, 3, 3, 3, 3, 3, 3, 11, 3, 3, 3, 3, 3, 5, 5, 7, 3, 14, 3, 12, 13, 0, 10, 3, 3, 9, 3, 3, 3, 3, 3, 3, 3, 3, 3, 9, 3, 3, 8, 14, 9, 7, 3, 3, 3, 3, 10, 3, 3, 4, 3, 3, 3, 3, 3, 3, 3, 3, 1, 3, 3, 3, 3, 3, 3, 0, 3, 3, 3, 3, 6, 3, 3, 10, 1, 11, 9, 1, 3, 3, 3, 8, 3, 0, 3, 3, 3, 3, 1, 8, 3, 3, 3, 3, 3, 11, 3, 1, 3, 3, 5, 7, 8, 3, 3, 5, 3, 3, 3, 0, 9, 10, 3, 3, 3, 3, 3, 3, 9, 3, 9, 3, 1, 3, 3, 3, 9, 3, 7, 3, 3, 9, 14, 3, 3, 3, 11, 3, 3, 3, 6, 3, 3, 3, 3, 3, 3, 11, 11, 3, 10, 9, 9, 13, 10, 3, 3, 3, 3, 3, 6, 3, 3, 3, 3, 3, 1, 9, 7, 3, 0, 10, 3, 3, 3, 3, 6, 1, 13, 13, 0, 3, 0, 7, 3, 11, 3, 3, 13, 1, 3, 12, 3, 3, 3, 7, 6, 10, 3, 3, 3, 3, 10, 3, 3, 3, 3, 5, 9, 8, 9, 8, 3, 3, 3, 3, 3, 3, 3, 14, 3, 9, 5, 3, 3, 3, 3, 3, 3, 3, 11, 3, 3, 3, 12, 3, 14, 0, 12, 3, 4, 1, 3, 3, 3, 0, 10, 3, 8, 3, 3, 3, 3, 3, 10, 0, 1, 3, 7, 3, 14, 14, 3, 3, 10, 13, 12, 12, 3, 3, 3, 14, 4, 3, 3, 3, 3, 3, 3, 3, 3, 3, 11, 3, 3, 6, 3, 13, 3, 3, 5, 3, 3, 3, 9, 3, 3, 3, 3, 3, 12, 3, 0, 3, 14, 3, 3, 14, 4, 3, 1, 3, 7, 13, 3, 3, 1, 3, 3, 8, 3, 3, 8, 3, 5, 7, 3, 3, 3, 12, 1, 3, 13, 3, 3, 13, 3, 3, 3, 3, 9, 3, 8, 10, 3, 3, 0, 3, 11, 3, 3, 3, 3, 3, 3, 4, 4, 3, 12, 3, 3, 12, 4, 6, 1, 3, 3, 3, 3, 3, 3, 7, 3, 3, 3, 3, 3, 3, 5, 3, 13, 3, 3, 6, 3, 10, 3, 12, 3, 3, 13, 11, 3, 3, 3, 4, 5, 3, 3, 3, 3, 3, 0, 14, 3, 3, 3, 3, 10, 3, 3, 11, 11, 8, 3, 3, 3, 3, 3, 5, 3, 3, 3, 14, 3, 3, 3, 3, 3, 3, 3, 3, 3, 3, 3, 3, 3, 3, 1, 3, 3, 10, 14, 3, 3, 6, 3, 3, 11, 4, 13, 3, 3, 3, 13, 3, 10, 11, 0, 8, 3, 0, 3, 3, 4, 3, 1, 13, 3, 14, 3, 6, 3, 5, 5, 3, 3, 4, 3, 3, 12, 3, 7, 12, 4, 3, 3, 3, 3, 3, 3, 3, 3, 3, 3, 3, 3, 6, 3, 3, 9, 3, 3, 3, 3, 3, 0, 3, 3, 3, 3, 3, 3, 9, 8, 3, 3, 3, 3, 3, 5, 3, 3, 3, 3, 3, 7, 3, 12, 10, 3, 10, 3, 11, 3, 3, 3, 3, 3, 13, 3, 5, 10, 3, 3, 3, 3, 3, 3, 3, 6, 3, 3, 3, 3, 4, 3, 5, 3, 3, 0, 10, 3, 3, 12, 13, 6, 13, 3, 3, 3, 11, 13, 7, 7, 3, 3, 3, 12, 3, 3, 3, 3, 3, 3, 3, 3, 9, 3, 8, 3, 11, 3, 3, 3, 3, 7, 3, 3, 3, 3, 3, 3, 13, 3, 6, 3, 3, 3, 3, 3, 3, 9, 3, 8, 0, 3, 14, 7, 3, 3, 3, 3, 3, 12, 5, 3, 3, 3, 13, 5, 11, 3, 1, 3, 9, 6, 12, 3, 3, 3, 3, 3, 3, 3, 3]\n"
          ]
        }
      ]
    },
    {
      "cell_type": "code",
      "execution_count": null,
      "metadata": {
        "id": "KLgSs779TIUW"
      },
      "outputs": [],
      "source": [
        "cm = confusion_matrix(y_test_, preds_)\n",
        "\n",
        "# Removendo a terceira linha e a terceira coluna\n",
        "cm_modificado = np.delete(cm, 2, axis=0)  # Remove a terceira linha\n",
        "cm_modificado = np.delete(cm_modificado, 2, axis=1)  # Remove a terceira coluna\n"
      ]
    },
    {
      "cell_type": "code",
      "source": [
        "plt.figure(figsize= (8,8))\n",
        "plot_confusion_matrix(cm_modificado, classes=['Ônibus', 'Banco', 'Formação', 'Hospital', 'Eu', 'Homem', 'Motocicleta', 'Meu', 'Supermercado', 'Nós', 'Mulher', 'Você', 'Vocês', 'Seu']\n",
        ")\n",
        "plt.show()"
      ],
      "metadata": {
        "colab": {
          "base_uri": "https://localhost:8080/",
          "height": 1000
        },
        "id": "474YHyIA2h7Q",
        "outputId": "a4a1ca4f-654c-4571-c8ed-62a9cd489b3b"
      },
      "execution_count": 37,
      "outputs": [
        {
          "output_type": "stream",
          "name": "stdout",
          "text": [
            "Confusion matrix, without normalization\n",
            "[[ 51   0   1   0   0   0   0   0   0   0   0   0   0   0]\n",
            " [  0  44   1   0   0   0   0   0   0   0   0   0   0   0]\n",
            " [  0   1 871   1   0   1   3   0   0   0   1   1   1   0]\n",
            " [  0   0   0  43   0   0   0   0   0   0   0   0   0   0]\n",
            " [  0   0   2   0  34   0   0   0   0   0   0   0   0   0]\n",
            " [  0   0   1   0   0  27   0   0   0   0   0   0   0   0]\n",
            " [  0   0   0   0   0   0  43   0   0   0   0   0   0   0]\n",
            " [  0   0   0   0   0   0   0  38   0   0   0   0   0   0]\n",
            " [  0   0   0   0   0   0   0   0  50   0   0   0   0   0]\n",
            " [  0   0   2   0   0   0   0   0   0  52   0   0   0   0]\n",
            " [  0   0   0   0   0   0   0   0   0   0  31   0   0   0]\n",
            " [  0   0   0   0   0   0   0   0   0   0   0  41   0   2]\n",
            " [  0   0   0   0   0   0   0   0   0   0   0   0  52   0]\n",
            " [  0   0   0   0   0   0   0   0   0   0   0   0   0  30]]\n"
          ]
        },
        {
          "output_type": "display_data",
          "data": {
            "text/plain": [
              "<Figure size 800x800 with 1 Axes>"
            ],
            "image/png": "[encoded data removed]"
          },
          "metadata": {}
        }
      ]
    },
    {
      "cell_type": "code",
      "execution_count": 26,
      "metadata": {
        "colab": {
          "base_uri": "https://localhost:8080/"
        },
        "id": "NEvqBKJVs_a-",
        "outputId": "ec88ce35-a797-4aad-ad8f-3093fdf14caa"
      },
      "outputs": [
        {
          "output_type": "stream",
          "name": "stdout",
          "text": [
            "Acurácia: 98.39%\n",
            "Precisão: 91.24%\n",
            "Recall: 91.82%\n",
            "F1 Score: 91.50%\n"
          ]
        },
        {
          "output_type": "stream",
          "name": "stderr",
          "text": [
            "/usr/local/lib/python3.10/dist-packages/sklearn/metrics/_classification.py:1344: UndefinedMetricWarning: Precision is ill-defined and being set to 0.0 in labels with no predicted samples. Use `zero_division` parameter to control this behavior.\n",
            "  _warn_prf(average, modifier, msg_start, len(result))\n"
          ]
        }
      ],
      "source": [
        "from sklearn.metrics import accuracy_score, precision_score, recall_score, f1_score\n",
        "import numpy as np\n",
        "accuracy = accuracy_score(np.argmax(y_test, axis=1), np.argmax(preds, axis=1))\n",
        "print(\"Acurácia: {:.2f}%\".format(accuracy * 100))\n",
        "\n",
        "precision = precision_score(np.argmax(y_test, axis=1), np.argmax(preds, axis=1), average='macro')\n",
        "print(\"Precisão: {:.2f}%\".format(precision * 100))\n",
        "\n",
        "recall = recall_score(np.argmax(y_test, axis=1), np.argmax(preds, axis=1), average='macro')\n",
        "print(\"Recall: {:.2f}%\".format(recall * 100))\n",
        "\n",
        "f1Score = f1_score(np.argmax(y_test, axis=1), np.argmax(preds, axis=1), average='macro')\n",
        "print(\"F1 Score: {:.2f}%\".format(f1Score * 100))\n"
      ]
    }
  ],
  "metadata": {
    "accelerator": "GPU",
    "colab": {
      "gpuType": "T4",
      "provenance": []
    },
    "kernelspec": {
      "display_name": "Python 3",
      "name": "python3"
    },
    "language_info": {
      "name": "python"
    }
  },
  "nbformat": 4,
  "nbformat_minor": 0
}